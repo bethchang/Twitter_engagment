{
  "nbformat": 4,
  "nbformat_minor": 0,
  "metadata": {
    "kernelspec": {
      "display_name": "Python 3",
      "language": "python",
      "name": "python3"
    },
    "language_info": {
      "codemirror_mode": {
        "name": "ipython",
        "version": 3
      },
      "file_extension": ".py",
      "mimetype": "text/x-python",
      "name": "python",
      "nbconvert_exporter": "python",
      "pygments_lexer": "ipython3",
      "version": "3.8.3"
    },
    "colab": {
      "name": "Analysis of Twitter Engagement.ipynb",
      "provenance": []
    }
  },
  "cells": [
    {
      "cell_type": "code",
      "metadata": {
        "id": "XoMjREp1SUhy"
      },
      "source": [
        "%matplotlib inline\n",
        "import pandas as pd\n",
        "import numpy as np\n",
        "import matplotlib.pyplot as plt\n",
        "import seaborn as sns\n",
        "from scipy import stats\n",
        "import os"
      ],
      "execution_count": null,
      "outputs": []
    },
    {
      "cell_type": "code",
      "metadata": {
        "id": "UwE1v5WbSUhz",
        "outputId": "d060b3e6-ca6b-41d2-c946-27d65487692a"
      },
      "source": [
        "df_Biden = pd.read_csv(r\"C:\\Users\\Beth\\Documents\\hashtag_joebiden.csv\", error_bad_lines=False, encoding = \"ISO-8859-1\")"
      ],
      "execution_count": null,
      "outputs": [
        {
          "output_type": "stream",
          "text": [
            "C:\\Users\\Beth\\anaconda3\\lib\\site-packages\\IPython\\core\\interactiveshell.py:3071: DtypeWarning: Columns (1,3,6,11,13,14) have mixed types.Specify dtype option on import or set low_memory=False.\n",
            "  has_raised = await self.run_ast_nodes(code_ast.body, cell_name,\n"
          ],
          "name": "stderr"
        }
      ]
    },
    {
      "cell_type": "code",
      "metadata": {
        "id": "CKcaHPjbSUh0",
        "outputId": "410c5de3-bd91-44be-aebf-8738dafd9c4a"
      },
      "source": [
        "df_Biden.info()\n",
        "df_Biden.head()"
      ],
      "execution_count": null,
      "outputs": [
        {
          "output_type": "stream",
          "text": [
            "<class 'pandas.core.frame.DataFrame'>\n",
            "RangeIndex: 777078 entries, 0 to 777077\n",
            "Data columns (total 21 columns):\n",
            " #   Column                Non-Null Count   Dtype  \n",
            "---  ------                --------------   -----  \n",
            " 0   created_at            777073 non-null  object \n",
            " 1   tweet_id              776995 non-null  object \n",
            " 2   tweet                 776995 non-null  object \n",
            " 3   likes                 776914 non-null  object \n",
            " 4   retweet_count         776895 non-null  float64\n",
            " 5   source                776182 non-null  object \n",
            " 6   user_id               776889 non-null  object \n",
            " 7   user_name             776877 non-null  object \n",
            " 8   user_screen_name      776895 non-null  object \n",
            " 9   user_description      694885 non-null  object \n",
            " 10  user_join_date        776784 non-null  object \n",
            " 11  user_followers_count  776885 non-null  object \n",
            " 12  user_location         543066 non-null  object \n",
            " 13  lat                   355284 non-null  object \n",
            " 14  long                  355284 non-null  object \n",
            " 15  city                  186869 non-null  object \n",
            " 16  country               353770 non-null  object \n",
            " 17  continent             353788 non-null  object \n",
            " 18  state                 260191 non-null  object \n",
            " 19  state_code            244603 non-null  object \n",
            " 20  collected_at          776777 non-null  object \n",
            "dtypes: float64(1), object(20)\n",
            "memory usage: 124.5+ MB\n"
          ],
          "name": "stdout"
        },
        {
          "output_type": "execute_result",
          "data": {
            "text/html": [
              "<div>\n",
              "<style scoped>\n",
              "    .dataframe tbody tr th:only-of-type {\n",
              "        vertical-align: middle;\n",
              "    }\n",
              "\n",
              "    .dataframe tbody tr th {\n",
              "        vertical-align: top;\n",
              "    }\n",
              "\n",
              "    .dataframe thead th {\n",
              "        text-align: right;\n",
              "    }\n",
              "</style>\n",
              "<table border=\"1\" class=\"dataframe\">\n",
              "  <thead>\n",
              "    <tr style=\"text-align: right;\">\n",
              "      <th></th>\n",
              "      <th>created_at</th>\n",
              "      <th>tweet_id</th>\n",
              "      <th>tweet</th>\n",
              "      <th>likes</th>\n",
              "      <th>retweet_count</th>\n",
              "      <th>source</th>\n",
              "      <th>user_id</th>\n",
              "      <th>user_name</th>\n",
              "      <th>user_screen_name</th>\n",
              "      <th>user_description</th>\n",
              "      <th>...</th>\n",
              "      <th>user_followers_count</th>\n",
              "      <th>user_location</th>\n",
              "      <th>lat</th>\n",
              "      <th>long</th>\n",
              "      <th>city</th>\n",
              "      <th>country</th>\n",
              "      <th>continent</th>\n",
              "      <th>state</th>\n",
              "      <th>state_code</th>\n",
              "      <th>collected_at</th>\n",
              "    </tr>\n",
              "  </thead>\n",
              "  <tbody>\n",
              "    <tr>\n",
              "      <th>0</th>\n",
              "      <td>10/15/2020 0:00</td>\n",
              "      <td>1.32E+18</td>\n",
              "      <td>#Elecciones2020 | En #Florida: #JoeBiden dice ...</td>\n",
              "      <td>0</td>\n",
              "      <td>0.0</td>\n",
              "      <td>TweetDeck</td>\n",
              "      <td>360666534</td>\n",
              "      <td>El Sol Latino News</td>\n",
              "      <td>elsollatinonews</td>\n",
              "      <td>ð Noticias de interÃ©s para latinos de la c...</td>\n",
              "      <td>...</td>\n",
              "      <td>1860</td>\n",
              "      <td>Philadelphia, PA / Miami, FL</td>\n",
              "      <td>25.7743</td>\n",
              "      <td>-80.1937</td>\n",
              "      <td>NaN</td>\n",
              "      <td>United States of America</td>\n",
              "      <td>North America</td>\n",
              "      <td>Florida</td>\n",
              "      <td>FL</td>\n",
              "      <td>10/21/2020 0:00</td>\n",
              "    </tr>\n",
              "    <tr>\n",
              "      <th>1</th>\n",
              "      <td>10/15/2020 0:00</td>\n",
              "      <td>1.32E+18</td>\n",
              "      <td>#HunterBiden #HunterBidenEmails #JoeBiden #Joe...</td>\n",
              "      <td>0</td>\n",
              "      <td>0.0</td>\n",
              "      <td>Twitter for iPad</td>\n",
              "      <td>809904438</td>\n",
              "      <td>Cheri A. ðºð¸</td>\n",
              "      <td>Biloximeemaw</td>\n",
              "      <td>Locked and loaded Meemaw. Love God, my family ...</td>\n",
              "      <td>...</td>\n",
              "      <td>6628</td>\n",
              "      <td>NaN</td>\n",
              "      <td>NaN</td>\n",
              "      <td>NaN</td>\n",
              "      <td>NaN</td>\n",
              "      <td>NaN</td>\n",
              "      <td>NaN</td>\n",
              "      <td>NaN</td>\n",
              "      <td>NaN</td>\n",
              "      <td>00:00.5</td>\n",
              "    </tr>\n",
              "    <tr>\n",
              "      <th>2</th>\n",
              "      <td>10/15/2020 0:00</td>\n",
              "      <td>1.32E+18</td>\n",
              "      <td>@IslandGirlPRV @BradBeauregardJ @MeidasTouch T...</td>\n",
              "      <td>0</td>\n",
              "      <td>0.0</td>\n",
              "      <td>Twitter Web App</td>\n",
              "      <td>3494182277</td>\n",
              "      <td>Flag Waver</td>\n",
              "      <td>Flag_Wavers</td>\n",
              "      <td>NaN</td>\n",
              "      <td>...</td>\n",
              "      <td>1536</td>\n",
              "      <td>Golden Valley Arizona</td>\n",
              "      <td>46.304</td>\n",
              "      <td>-109.171</td>\n",
              "      <td>NaN</td>\n",
              "      <td>United States of America</td>\n",
              "      <td>North America</td>\n",
              "      <td>Montana</td>\n",
              "      <td>MT</td>\n",
              "      <td>00:01.0</td>\n",
              "    </tr>\n",
              "    <tr>\n",
              "      <th>3</th>\n",
              "      <td>10/15/2020 0:00</td>\n",
              "      <td>1.32E+18</td>\n",
              "      <td>@chrislongview Watching and setting dvr. Letâ...</td>\n",
              "      <td>0</td>\n",
              "      <td>0.0</td>\n",
              "      <td>Twitter for iPhone</td>\n",
              "      <td>8.24E+17</td>\n",
              "      <td>Michelle Ferg</td>\n",
              "      <td>MichelleFerg4</td>\n",
              "      <td>NaN</td>\n",
              "      <td>...</td>\n",
              "      <td>27</td>\n",
              "      <td>NaN</td>\n",
              "      <td>NaN</td>\n",
              "      <td>NaN</td>\n",
              "      <td>NaN</td>\n",
              "      <td>NaN</td>\n",
              "      <td>NaN</td>\n",
              "      <td>NaN</td>\n",
              "      <td>NaN</td>\n",
              "      <td>00:01.6</td>\n",
              "    </tr>\n",
              "    <tr>\n",
              "      <th>4</th>\n",
              "      <td>10/15/2020 0:00</td>\n",
              "      <td>1.32E+18</td>\n",
              "      <td>#censorship #HunterBiden #Biden #BidenEmails #...</td>\n",
              "      <td>1</td>\n",
              "      <td>0.0</td>\n",
              "      <td>Twitter Web App</td>\n",
              "      <td>1.03E+18</td>\n",
              "      <td>the Gold State</td>\n",
              "      <td>theegoldstate</td>\n",
              "      <td>A Silicon Valley #independent #News #Media #St...</td>\n",
              "      <td>...</td>\n",
              "      <td>390</td>\n",
              "      <td>California, USA</td>\n",
              "      <td>36.7015</td>\n",
              "      <td>-118.756</td>\n",
              "      <td>NaN</td>\n",
              "      <td>United States of America</td>\n",
              "      <td>North America</td>\n",
              "      <td>California</td>\n",
              "      <td>CA</td>\n",
              "      <td>00:02.1</td>\n",
              "    </tr>\n",
              "  </tbody>\n",
              "</table>\n",
              "<p>5 rows × 21 columns</p>\n",
              "</div>"
            ],
            "text/plain": [
              "        created_at  tweet_id  \\\n",
              "0  10/15/2020 0:00  1.32E+18   \n",
              "1  10/15/2020 0:00  1.32E+18   \n",
              "2  10/15/2020 0:00  1.32E+18   \n",
              "3  10/15/2020 0:00  1.32E+18   \n",
              "4  10/15/2020 0:00  1.32E+18   \n",
              "\n",
              "                                               tweet likes  retweet_count  \\\n",
              "0  #Elecciones2020 | En #Florida: #JoeBiden dice ...     0            0.0   \n",
              "1  #HunterBiden #HunterBidenEmails #JoeBiden #Joe...     0            0.0   \n",
              "2  @IslandGirlPRV @BradBeauregardJ @MeidasTouch T...     0            0.0   \n",
              "3  @chrislongview Watching and setting dvr. Letâ...     0            0.0   \n",
              "4  #censorship #HunterBiden #Biden #BidenEmails #...     1            0.0   \n",
              "\n",
              "               source     user_id           user_name user_screen_name  \\\n",
              "0           TweetDeck   360666534  El Sol Latino News  elsollatinonews   \n",
              "1    Twitter for iPad   809904438   Cheri A. ðºð¸     Biloximeemaw   \n",
              "2     Twitter Web App  3494182277          Flag Waver      Flag_Wavers   \n",
              "3  Twitter for iPhone    8.24E+17       Michelle Ferg    MichelleFerg4   \n",
              "4     Twitter Web App    1.03E+18      the Gold State    theegoldstate   \n",
              "\n",
              "                                    user_description  ...  \\\n",
              "0  ð Noticias de interÃ©s para latinos de la c...  ...   \n",
              "1  Locked and loaded Meemaw. Love God, my family ...  ...   \n",
              "2                                                NaN  ...   \n",
              "3                                                NaN  ...   \n",
              "4  A Silicon Valley #independent #News #Media #St...  ...   \n",
              "\n",
              "  user_followers_count                 user_location      lat     long city  \\\n",
              "0                 1860  Philadelphia, PA / Miami, FL  25.7743 -80.1937  NaN   \n",
              "1                 6628                           NaN      NaN      NaN  NaN   \n",
              "2                 1536         Golden Valley Arizona   46.304 -109.171  NaN   \n",
              "3                   27                           NaN      NaN      NaN  NaN   \n",
              "4                  390               California, USA  36.7015 -118.756  NaN   \n",
              "\n",
              "                    country      continent       state state_code  \\\n",
              "0  United States of America  North America     Florida         FL   \n",
              "1                       NaN            NaN         NaN        NaN   \n",
              "2  United States of America  North America     Montana         MT   \n",
              "3                       NaN            NaN         NaN        NaN   \n",
              "4  United States of America  North America  California         CA   \n",
              "\n",
              "      collected_at  \n",
              "0  10/21/2020 0:00  \n",
              "1          00:00.5  \n",
              "2          00:01.0  \n",
              "3          00:01.6  \n",
              "4          00:02.1  \n",
              "\n",
              "[5 rows x 21 columns]"
            ]
          },
          "metadata": {
            "tags": []
          },
          "execution_count": 26
        }
      ]
    },
    {
      "cell_type": "code",
      "metadata": {
        "id": "no8HXTj-SUh0",
        "outputId": "5f4a6a43-e470-48e5-b3d0-507ddea92df5"
      },
      "source": [
        "# Get the data just for tweets from the US\n",
        "US_Biden = df_Biden[df_Biden['country'] == 'United States of America']\n",
        "\n",
        "# Convert 'likes' and 'user_followers_counts' from objects to floats\n",
        "US_Biden['likes'] = US_Biden['likes'].astype(float)\n",
        "US_Biden['user_followers_count'] = US_Biden['user_followers_count'].astype(float)\n",
        "\n",
        "US_Biden = US_Biden[US_Biden['user_followers_count'] >= 20000]"
      ],
      "execution_count": null,
      "outputs": [
        {
          "output_type": "stream",
          "text": [
            "<ipython-input-8-51e3b1be13b1>:5: SettingWithCopyWarning: \n",
            "A value is trying to be set on a copy of a slice from a DataFrame.\n",
            "Try using .loc[row_indexer,col_indexer] = value instead\n",
            "\n",
            "See the caveats in the documentation: https://pandas.pydata.org/pandas-docs/stable/user_guide/indexing.html#returning-a-view-versus-a-copy\n",
            "  US_Biden['likes'] = US_Biden['likes'].astype(float)\n",
            "<ipython-input-8-51e3b1be13b1>:6: SettingWithCopyWarning: \n",
            "A value is trying to be set on a copy of a slice from a DataFrame.\n",
            "Try using .loc[row_indexer,col_indexer] = value instead\n",
            "\n",
            "See the caveats in the documentation: https://pandas.pydata.org/pandas-docs/stable/user_guide/indexing.html#returning-a-view-versus-a-copy\n",
            "  US_Biden['user_followers_count'] = US_Biden['user_followers_count'].astype(float)\n"
          ],
          "name": "stderr"
        }
      ]
    },
    {
      "cell_type": "code",
      "metadata": {
        "id": "yUpjBi30SUh0",
        "outputId": "ef45dd58-3237-4d71-d7e0-8be633a3cd18"
      },
      "source": [
        "US_Biden.info()"
      ],
      "execution_count": null,
      "outputs": [
        {
          "output_type": "stream",
          "text": [
            "<class 'pandas.core.frame.DataFrame'>\n",
            "Int64Index: 7826 entries, 92 to 777019\n",
            "Data columns (total 21 columns):\n",
            " #   Column                Non-Null Count  Dtype  \n",
            "---  ------                --------------  -----  \n",
            " 0   created_at            7826 non-null   object \n",
            " 1   tweet_id              7826 non-null   object \n",
            " 2   tweet                 7826 non-null   object \n",
            " 3   likes                 7826 non-null   float64\n",
            " 4   retweet_count         7826 non-null   float64\n",
            " 5   source                7826 non-null   object \n",
            " 6   user_id               7826 non-null   object \n",
            " 7   user_name             7826 non-null   object \n",
            " 8   user_screen_name      7826 non-null   object \n",
            " 9   user_description      7797 non-null   object \n",
            " 10  user_join_date        7826 non-null   object \n",
            " 11  user_followers_count  7826 non-null   float64\n",
            " 12  user_location         7826 non-null   object \n",
            " 13  lat                   7826 non-null   object \n",
            " 14  long                  7826 non-null   object \n",
            " 15  city                  5612 non-null   object \n",
            " 16  country               7826 non-null   object \n",
            " 17  continent             7826 non-null   object \n",
            " 18  state                 7826 non-null   object \n",
            " 19  state_code            7826 non-null   object \n",
            " 20  collected_at          7826 non-null   object \n",
            "dtypes: float64(3), object(18)\n",
            "memory usage: 1.3+ MB\n"
          ],
          "name": "stdout"
        }
      ]
    },
    {
      "cell_type": "code",
      "metadata": {
        "id": "vl_rXZPcSUh0"
      },
      "source": [
        "# Create a dataframe for states that Biden won\n",
        "states_Biden_won = US_Biden[US_Biden['state_code'].isin(['WA', 'OR', 'CA', 'NV', 'AZ', 'CO', 'NM', 'MN', 'WI', 'IL',\n",
        "                                                    'MI', 'PA', 'ME', 'VT', 'NH', 'MA', 'RI', 'CT', 'NJ', 'DE',\n",
        "                                                    'MD', 'DC', 'VA', 'HI', 'NY' 'GA'])]\n",
        "# Create a dataframe for states that Biden lost\n",
        "states_Biden_lost = US_Biden[US_Biden['state_code'].isin(['ID', 'MT', 'UT', 'WY', 'ND', 'SD', 'NE', 'KS', 'OK', 'TX',\n",
        "                                                    'IA', 'MO', 'AR', 'LA', 'MS', 'AL', 'TN', 'KY', 'IN', 'OH',\n",
        "                                                    'WV', 'NC', 'SC', 'FL', 'AK', 'AL'])]"
      ],
      "execution_count": null,
      "outputs": []
    },
    {
      "cell_type": "markdown",
      "metadata": {
        "id": "DhFk0ZeQSUh0"
      },
      "source": [
        "### 1. On average, do tweets with  #Biden from big accounts, defined as those with more than 20,000 followers, receive more likes in states that Biden won compared to states that he lost?"
      ]
    },
    {
      "cell_type": "code",
      "metadata": {
        "scrolled": true,
        "id": "GT45eCOySUh0",
        "outputId": "bda8a09b-ad4b-4b27-bd88-b9489d704ba6"
      },
      "source": [
        "# Check whether the data is normally distributed\n",
        "plt.hist(states_Biden_won['likes'], bins=20)\n",
        "plt.xlabel('');"
      ],
      "execution_count": null,
      "outputs": [
        {
          "output_type": "display_data",
          "data": {
            "image/png": "[encoded data removed]",
            "text/plain": [
              "<Figure size 432x288 with 1 Axes>"
            ]
          },
          "metadata": {
            "tags": [],
            "needs_background": "light"
          }
        }
      ]
    },
    {
      "cell_type": "code",
      "metadata": {
        "id": "FVUikI74SUh0",
        "outputId": "66daa8a1-dd3a-44da-ef78-191cc148ea9f"
      },
      "source": [
        "plt.hist(states_Biden_lost['likes'], bins=20);"
      ],
      "execution_count": null,
      "outputs": [
        {
          "output_type": "display_data",
          "data": {
            "image/png": "[encoded data removed]",
            "text/plain": [
              "<Figure size 432x288 with 1 Axes>"
            ]
          },
          "metadata": {
            "tags": [],
            "needs_background": "light"
          }
        }
      ]
    },
    {
      "cell_type": "code",
      "metadata": {
        "id": "2d5WpA4FSUh0",
        "outputId": "d2cc9f21-a70e-4a04-f3fa-05060757429f"
      },
      "source": [
        "print(stats.describe(states_Biden_won['likes']))\n",
        "print(stats.describe(states_Biden_lost['likes']))"
      ],
      "execution_count": null,
      "outputs": [
        {
          "output_type": "stream",
          "text": [
            "DescribeResult(nobs=3394, minmax=(0.0, 22641.0), mean=189.9166175604007, variance=945711.805895305, skewness=15.594912307010508, kurtosis=304.6146358585004)\n",
            "DescribeResult(nobs=2459, minmax=(0.0, 5782.0), mean=56.11224074827165, variance=55265.203019346416, skewness=13.379162233165003, kurtosis=252.78461790166463)\n"
          ],
          "name": "stdout"
        }
      ]
    },
    {
      "cell_type": "code",
      "metadata": {
        "id": "7u1Uuq7hSUh0",
        "outputId": "3753e9c5-3e84-4e70-8b9b-010424f00466"
      },
      "source": [
        "print(stats.shapiro(states_Biden_won['likes']))\n",
        "print(stats.shapiro(states_Biden_lost['likes']))"
      ],
      "execution_count": null,
      "outputs": [
        {
          "output_type": "stream",
          "text": [
            "ShapiroResult(statistic=0.16186904907226562, pvalue=0.0)\n",
            "ShapiroResult(statistic=0.2144593596458435, pvalue=0.0)\n"
          ],
          "name": "stdout"
        }
      ]
    },
    {
      "cell_type": "markdown",
      "metadata": {
        "id": "-hoKTBT3SUh0"
      },
      "source": [
        "The data is not normally distributed, so the medians will be compared."
      ]
    },
    {
      "cell_type": "code",
      "metadata": {
        "id": "-c4cci7eSUh0",
        "outputId": "c7090bc2-7141-40ae-f755-8f324aa1eed4"
      },
      "source": [
        "states_Biden_won['likes'].median() - states_Biden_lost['likes'].median()"
      ],
      "execution_count": null,
      "outputs": [
        {
          "output_type": "execute_result",
          "data": {
            "text/plain": [
              "6.0"
            ]
          },
          "metadata": {
            "tags": []
          },
          "execution_count": 32
        }
      ]
    },
    {
      "cell_type": "code",
      "metadata": {
        "id": "GtrLbs8BSUh1",
        "outputId": "5a657811-f55f-4f5a-c0b1-2d3cb4f3ac0f"
      },
      "source": [
        "states_Biden_won.describe()"
      ],
      "execution_count": null,
      "outputs": [
        {
          "output_type": "execute_result",
          "data": {
            "text/html": [
              "<div>\n",
              "<style scoped>\n",
              "    .dataframe tbody tr th:only-of-type {\n",
              "        vertical-align: middle;\n",
              "    }\n",
              "\n",
              "    .dataframe tbody tr th {\n",
              "        vertical-align: top;\n",
              "    }\n",
              "\n",
              "    .dataframe thead th {\n",
              "        text-align: right;\n",
              "    }\n",
              "</style>\n",
              "<table border=\"1\" class=\"dataframe\">\n",
              "  <thead>\n",
              "    <tr style=\"text-align: right;\">\n",
              "      <th></th>\n",
              "      <th>likes</th>\n",
              "      <th>retweet_count</th>\n",
              "      <th>user_followers_count</th>\n",
              "    </tr>\n",
              "  </thead>\n",
              "  <tbody>\n",
              "    <tr>\n",
              "      <th>count</th>\n",
              "      <td>3394.000000</td>\n",
              "      <td>3394.000000</td>\n",
              "      <td>3.394000e+03</td>\n",
              "    </tr>\n",
              "    <tr>\n",
              "      <th>mean</th>\n",
              "      <td>189.916618</td>\n",
              "      <td>47.327637</td>\n",
              "      <td>2.089269e+05</td>\n",
              "    </tr>\n",
              "    <tr>\n",
              "      <th>std</th>\n",
              "      <td>972.477149</td>\n",
              "      <td>196.086708</td>\n",
              "      <td>4.671509e+05</td>\n",
              "    </tr>\n",
              "    <tr>\n",
              "      <th>min</th>\n",
              "      <td>0.000000</td>\n",
              "      <td>0.000000</td>\n",
              "      <td>2.000000e+04</td>\n",
              "    </tr>\n",
              "    <tr>\n",
              "      <th>25%</th>\n",
              "      <td>2.000000</td>\n",
              "      <td>0.000000</td>\n",
              "      <td>2.652925e+04</td>\n",
              "    </tr>\n",
              "    <tr>\n",
              "      <th>50%</th>\n",
              "      <td>11.000000</td>\n",
              "      <td>3.000000</td>\n",
              "      <td>5.298750e+04</td>\n",
              "    </tr>\n",
              "    <tr>\n",
              "      <th>75%</th>\n",
              "      <td>65.000000</td>\n",
              "      <td>13.000000</td>\n",
              "      <td>1.950160e+05</td>\n",
              "    </tr>\n",
              "    <tr>\n",
              "      <th>max</th>\n",
              "      <td>22641.000000</td>\n",
              "      <td>4376.000000</td>\n",
              "      <td>5.750841e+06</td>\n",
              "    </tr>\n",
              "  </tbody>\n",
              "</table>\n",
              "</div>"
            ],
            "text/plain": [
              "              likes  retweet_count  user_followers_count\n",
              "count   3394.000000    3394.000000          3.394000e+03\n",
              "mean     189.916618      47.327637          2.089269e+05\n",
              "std      972.477149     196.086708          4.671509e+05\n",
              "min        0.000000       0.000000          2.000000e+04\n",
              "25%        2.000000       0.000000          2.652925e+04\n",
              "50%       11.000000       3.000000          5.298750e+04\n",
              "75%       65.000000      13.000000          1.950160e+05\n",
              "max    22641.000000    4376.000000          5.750841e+06"
            ]
          },
          "metadata": {
            "tags": []
          },
          "execution_count": 28
        }
      ]
    },
    {
      "cell_type": "code",
      "metadata": {
        "scrolled": true,
        "id": "sQUmCzrpSUh1",
        "outputId": "101e43c2-879b-4810-8004-0074ae6a2de9"
      },
      "source": [
        "states_Biden_lost.describe()"
      ],
      "execution_count": null,
      "outputs": [
        {
          "output_type": "execute_result",
          "data": {
            "text/html": [
              "<div>\n",
              "<style scoped>\n",
              "    .dataframe tbody tr th:only-of-type {\n",
              "        vertical-align: middle;\n",
              "    }\n",
              "\n",
              "    .dataframe tbody tr th {\n",
              "        vertical-align: top;\n",
              "    }\n",
              "\n",
              "    .dataframe thead th {\n",
              "        text-align: right;\n",
              "    }\n",
              "</style>\n",
              "<table border=\"1\" class=\"dataframe\">\n",
              "  <thead>\n",
              "    <tr style=\"text-align: right;\">\n",
              "      <th></th>\n",
              "      <th>likes</th>\n",
              "      <th>retweet_count</th>\n",
              "      <th>user_followers_count</th>\n",
              "    </tr>\n",
              "  </thead>\n",
              "  <tbody>\n",
              "    <tr>\n",
              "      <th>count</th>\n",
              "      <td>2459.000000</td>\n",
              "      <td>2459.000000</td>\n",
              "      <td>2.459000e+03</td>\n",
              "    </tr>\n",
              "    <tr>\n",
              "      <th>mean</th>\n",
              "      <td>56.112241</td>\n",
              "      <td>19.428223</td>\n",
              "      <td>1.523711e+05</td>\n",
              "    </tr>\n",
              "    <tr>\n",
              "      <th>std</th>\n",
              "      <td>235.085523</td>\n",
              "      <td>75.376025</td>\n",
              "      <td>4.624888e+05</td>\n",
              "    </tr>\n",
              "    <tr>\n",
              "      <th>min</th>\n",
              "      <td>0.000000</td>\n",
              "      <td>0.000000</td>\n",
              "      <td>2.005200e+04</td>\n",
              "    </tr>\n",
              "    <tr>\n",
              "      <th>25%</th>\n",
              "      <td>1.000000</td>\n",
              "      <td>0.000000</td>\n",
              "      <td>3.124400e+04</td>\n",
              "    </tr>\n",
              "    <tr>\n",
              "      <th>50%</th>\n",
              "      <td>5.000000</td>\n",
              "      <td>2.000000</td>\n",
              "      <td>4.748500e+04</td>\n",
              "    </tr>\n",
              "    <tr>\n",
              "      <th>75%</th>\n",
              "      <td>24.000000</td>\n",
              "      <td>7.000000</td>\n",
              "      <td>9.872000e+04</td>\n",
              "    </tr>\n",
              "    <tr>\n",
              "      <th>max</th>\n",
              "      <td>5782.000000</td>\n",
              "      <td>1506.000000</td>\n",
              "      <td>2.966787e+06</td>\n",
              "    </tr>\n",
              "  </tbody>\n",
              "</table>\n",
              "</div>"
            ],
            "text/plain": [
              "             likes  retweet_count  user_followers_count\n",
              "count  2459.000000    2459.000000          2.459000e+03\n",
              "mean     56.112241      19.428223          1.523711e+05\n",
              "std     235.085523      75.376025          4.624888e+05\n",
              "min       0.000000       0.000000          2.005200e+04\n",
              "25%       1.000000       0.000000          3.124400e+04\n",
              "50%       5.000000       2.000000          4.748500e+04\n",
              "75%      24.000000       7.000000          9.872000e+04\n",
              "max    5782.000000    1506.000000          2.966787e+06"
            ]
          },
          "metadata": {
            "tags": []
          },
          "execution_count": 29
        }
      ]
    },
    {
      "cell_type": "markdown",
      "metadata": {
        "id": "dShjo9SXSUh1"
      },
      "source": [
        "Becuase the data was not normally distributed, the Kruskal-Wallis test will be used to check the signficance of the difference in medians."
      ]
    },
    {
      "cell_type": "code",
      "metadata": {
        "id": "QRq1GdrwSUh1",
        "outputId": "25ccfffd-7b60-4e20-86cd-6b78bc5b1084"
      },
      "source": [
        "stats.kruskal(states_Biden_won['likes'], states_Biden_lost['likes'])"
      ],
      "execution_count": null,
      "outputs": [
        {
          "output_type": "execute_result",
          "data": {
            "text/plain": [
              "KruskalResult(statistic=189.0840698768215, pvalue=5.038036162210118e-43)"
            ]
          },
          "metadata": {
            "tags": []
          },
          "execution_count": 18
        }
      ]
    },
    {
      "cell_type": "markdown",
      "metadata": {
        "id": "zn9mP1nvSUh1"
      },
      "source": [
        "Based on the p-value, there appears to be a significant difference, which means we can reject the null hypothesis."
      ]
    },
    {
      "cell_type": "code",
      "metadata": {
        "scrolled": true,
        "id": "Ix_-EHlnSUh1",
        "outputId": "9cab6dc4-cf93-4714-cd60-de042b84387a"
      },
      "source": [
        "fig, (ax1, ax2) = plt.subplots(1, 2, sharey=True)\n",
        "fig.suptitle(\"'Likes' in states Biden won and states Biden lost\")\n",
        "ax1.boxplot(states_Biden_won['likes'])\n",
        "ax2.boxplot(states_Biden_lost['likes'])\n",
        "\n",
        "ax1.set_xlabel('States Biden won')\n",
        "ax2.set_xlabel('States Biden lost')\n",
        "ax1.set_ylabel('Number of likes');"
      ],
      "execution_count": null,
      "outputs": [
        {
          "output_type": "display_data",
          "data": {
            "image/png": "[encoded data removed]",
            "text/plain": [
              "<Figure size 432x288 with 2 Axes>"
            ]
          },
          "metadata": {
            "tags": [],
            "needs_background": "light"
          }
        }
      ]
    },
    {
      "cell_type": "code",
      "metadata": {
        "scrolled": true,
        "id": "DEV5E0U5SUh1",
        "outputId": "c2a3e34c-a2a0-4870-b395-4a550591de92"
      },
      "source": [
        "fig, (ax1, ax2) = plt.subplots(1, 2, figsize=(5,8), sharey=True)\n",
        "ax1.boxplot(states_Biden_won['likes'])\n",
        "ax2.boxplot(states_Biden_lost['likes'])\n",
        "\n",
        "ax1.set_xlabel('Blue states')\n",
        "ax2.set_xlabel('Red states')\n",
        "ax1.set_ylabel('Number of likes')\n",
        "\n",
        "plt.show();"
      ],
      "execution_count": null,
      "outputs": [
        {
          "output_type": "display_data",
          "data": {
            "image/png": "[encoded data removed]",
            "text/plain": [
              "<Figure size 360x576 with 2 Axes>"
            ]
          },
          "metadata": {
            "tags": [],
            "needs_background": "light"
          }
        }
      ]
    },
    {
      "cell_type": "markdown",
      "metadata": {
        "id": "1IX6mS69SUh1"
      },
      "source": [
        "Looking at the two boxplots, it appears as though tweets with #Biden received more likes in states that Biden won."
      ]
    },
    {
      "cell_type": "markdown",
      "metadata": {
        "id": "6CTyBiNoSUh1"
      },
      "source": [
        "### 2. On average, do tweets with #Biden from big accounts receive more retweets in states that Biden won compared to states that he lost?"
      ]
    },
    {
      "cell_type": "code",
      "metadata": {
        "id": "9Ukivu9USUh1",
        "outputId": "200f6482-202b-46d0-ccbf-95abce0cff68"
      },
      "source": [
        "# Check that the data for 'retwee_count' is normally distributed\n",
        "plt.hist(states_Biden_won['retweet_count'], bins=20);"
      ],
      "execution_count": null,
      "outputs": [
        {
          "output_type": "display_data",
          "data": {
            "image/png": "[encoded data removed]",
            "text/plain": [
              "<Figure size 432x288 with 1 Axes>"
            ]
          },
          "metadata": {
            "tags": [],
            "needs_background": "light"
          }
        }
      ]
    },
    {
      "cell_type": "code",
      "metadata": {
        "id": "C-BrupQYSUh1",
        "outputId": "a3e54a3f-ff66-4f90-912c-a34d355d8a93"
      },
      "source": [
        "plt.hist(states_Biden_lost['retweet_count'], bins=20);"
      ],
      "execution_count": null,
      "outputs": [
        {
          "output_type": "display_data",
          "data": {
            "image/png": "[encoded data removed]",
            "text/plain": [
              "<Figure size 432x288 with 1 Axes>"
            ]
          },
          "metadata": {
            "tags": [],
            "needs_background": "light"
          }
        }
      ]
    },
    {
      "cell_type": "code",
      "metadata": {
        "id": "6X_vzn5FSUh1",
        "outputId": "66f70ad4-dbd7-4ba7-c222-1255cf6da2c9"
      },
      "source": [
        "print(stats.describe(states_Biden_won['retweet_count']))\n",
        "print(stats.describe(states_Biden_lost['retweet_count']))"
      ],
      "execution_count": null,
      "outputs": [
        {
          "output_type": "stream",
          "text": [
            "DescribeResult(nobs=3755, minmax=(0.0, 5986.0), mean=29.50652463382157, variance=44832.15465906939, skewness=18.682448937577256, kurtosis=423.098853396418)\n",
            "DescribeResult(nobs=3485, minmax=(0.0, 946.0), mean=11.381922525107605, variance=2774.1775720778073, skewness=9.015792519566833, kurtosis=104.80972969845403)\n"
          ],
          "name": "stdout"
        }
      ]
    },
    {
      "cell_type": "code",
      "metadata": {
        "id": "Faby7duBSUh1",
        "outputId": "af9806e3-f738-4fa9-a940-942c86caf944"
      },
      "source": [
        "print(stats.shapiro(states_Biden_won['retweet_count']))\n",
        "print(stats.shapiro(states_Biden_lost['retweet_count']))"
      ],
      "execution_count": null,
      "outputs": [
        {
          "output_type": "stream",
          "text": [
            "ShapiroResult(statistic=0.23317205905914307, pvalue=0.0)\n",
            "ShapiroResult(statistic=0.2526327967643738, pvalue=0.0)\n"
          ],
          "name": "stdout"
        }
      ]
    },
    {
      "cell_type": "markdown",
      "metadata": {
        "id": "2os1QhyTSUh1"
      },
      "source": [
        "The data is not normally distributed, so the medians will be compared."
      ]
    },
    {
      "cell_type": "code",
      "metadata": {
        "id": "09LX4bk3SUh1",
        "outputId": "64f6de97-d492-4bcf-e87b-75a41f0f0518"
      },
      "source": [
        "states_Biden_won['retweet_count'].median() - states_Biden_lost['retweet_count'].median()"
      ],
      "execution_count": null,
      "outputs": [
        {
          "output_type": "execute_result",
          "data": {
            "text/plain": [
              "1.0"
            ]
          },
          "metadata": {
            "tags": []
          },
          "execution_count": 9
        }
      ]
    },
    {
      "cell_type": "markdown",
      "metadata": {
        "id": "tpKj5lMMSUh1"
      },
      "source": [
        "Becuase the data was not normally distributed, the Kruskal-Wallis test will be used to check the signficance of the difference in medians."
      ]
    },
    {
      "cell_type": "code",
      "metadata": {
        "id": "sK8jnh1HSUh1",
        "outputId": "1600faf7-2ca7-4945-ee4b-db175e6cfe3a"
      },
      "source": [
        "stats.kruskal(states_Biden_won['retweet_count'], states_Biden_lost['retweet_count'])"
      ],
      "execution_count": null,
      "outputs": [
        {
          "output_type": "execute_result",
          "data": {
            "text/plain": [
              "KruskalResult(statistic=185.45579392945845, pvalue=3.1210079787399454e-42)"
            ]
          },
          "metadata": {
            "tags": []
          },
          "execution_count": 93
        }
      ]
    },
    {
      "cell_type": "markdown",
      "metadata": {
        "id": "AFz0WSN2SUh1"
      },
      "source": [
        "Based on the p-value, there appears to be a significant difference, which means we can reject the null hypothesis."
      ]
    },
    {
      "cell_type": "code",
      "metadata": {
        "id": "f4kfYNmBSUh1",
        "outputId": "b470e7b6-72c3-498d-9ae2-111598f8921a"
      },
      "source": [
        "fig, (ax1, ax2) =plt.subplots(1, 2, sharey=True)\n",
        "fig.suptitle(\"'Retweets' in states Biden won and states Biden lost\")\n",
        "ax1.boxplot(states_Biden_won['retweet_count'])\n",
        "ax2.boxplot(states_Biden_lost['retweet_count'])\n",
        "\n",
        "ax1.set_xlabel('States Biden won')\n",
        "ax2.set_xlabel('States Biden lost')\n",
        "ax1.set_ylabel('Number of retweets');"
      ],
      "execution_count": null,
      "outputs": [
        {
          "output_type": "display_data",
          "data": {
            "image/png": "[encoded data removed]",
            "text/plain": [
              "<Figure size 432x288 with 2 Axes>"
            ]
          },
          "metadata": {
            "tags": [],
            "needs_background": "light"
          }
        }
      ]
    },
    {
      "cell_type": "code",
      "metadata": {
        "scrolled": true,
        "id": "pSy21sFlSUh1",
        "outputId": "be9023ff-78da-4879-bd05-016110b34a9f"
      },
      "source": [
        "fig, (ax1, ax2) = plt.subplots(1, 2, figsize=(5,8), sharey=True)\n",
        "ax1.boxplot(states_Biden_won['retweet_count'])\n",
        "ax2.boxplot(states_Biden_lost['retweet_count'])\n",
        "\n",
        "ax1.set_xlabel('Blue states')\n",
        "ax2.set_xlabel('Red states')\n",
        "ax1.set_ylabel('Number of retweets')\n",
        "\n",
        "plt.show();"
      ],
      "execution_count": null,
      "outputs": [
        {
          "output_type": "display_data",
          "data": {
            "image/png": "[encoded data removed]",
            "text/plain": [
              "<Figure size 360x576 with 2 Axes>"
            ]
          },
          "metadata": {
            "tags": [],
            "needs_background": "light"
          }
        }
      ]
    },
    {
      "cell_type": "markdown",
      "metadata": {
        "id": "ottpjn8eSUh1"
      },
      "source": [
        "Looking at the two boxplots, it appears as though tweets with #Biden received more retweets in states that Biden won."
      ]
    },
    {
      "cell_type": "code",
      "metadata": {
        "id": "RzsR7cM1SUh1",
        "outputId": "4516475d-e4a1-4020-c4ab-039853633d32"
      },
      "source": [
        "df_Trump = pd.read_csv(r\"C:\\Users\\Beth\\Documents\\hashtag_donaldtrump.csv\", error_bad_lines=False, encoding = \"ISO-8859-1\")"
      ],
      "execution_count": null,
      "outputs": [
        {
          "output_type": "stream",
          "text": [
            "C:\\Users\\Beth\\anaconda3\\lib\\site-packages\\IPython\\core\\interactiveshell.py:3071: DtypeWarning: Columns (1,3,6,11,13,14) have mixed types.Specify dtype option on import or set low_memory=False.\n",
            "  has_raised = await self.run_ast_nodes(code_ast.body, cell_name,\n"
          ],
          "name": "stderr"
        }
      ]
    },
    {
      "cell_type": "code",
      "metadata": {
        "scrolled": true,
        "id": "rfGlJaxLSUh1",
        "outputId": "f4647dc9-851e-488f-a4e3-173d1540f0b9"
      },
      "source": [
        "df_Trump.info()\n",
        "df_Trump.head()"
      ],
      "execution_count": null,
      "outputs": [
        {
          "output_type": "stream",
          "text": [
            "<class 'pandas.core.frame.DataFrame'>\n",
            "RangeIndex: 971157 entries, 0 to 971156\n",
            "Data columns (total 21 columns):\n",
            " #   Column                Non-Null Count   Dtype  \n",
            "---  ------                --------------   -----  \n",
            " 0   created_at            971088 non-null  object \n",
            " 1   tweet_id              971073 non-null  object \n",
            " 2   tweet                 971073 non-null  object \n",
            " 3   likes                 971045 non-null  object \n",
            " 4   retweet_count         970933 non-null  float64\n",
            " 5   source                970057 non-null  object \n",
            " 6   user_id               970929 non-null  object \n",
            " 7   user_name             970917 non-null  object \n",
            " 8   user_screen_name      970933 non-null  object \n",
            " 9   user_description      869663 non-null  object \n",
            " 10  user_join_date        970779 non-null  object \n",
            " 11  user_followers_count  970917 non-null  object \n",
            " 12  user_location         675839 non-null  object \n",
            " 13  lat                   445702 non-null  object \n",
            " 14  long                  445705 non-null  object \n",
            " 15  city                  227180 non-null  object \n",
            " 16  country               442732 non-null  object \n",
            " 17  continent             442749 non-null  object \n",
            " 18  state                 320614 non-null  object \n",
            " 19  state_code            300414 non-null  object \n",
            " 20  collected_at          970765 non-null  object \n",
            "dtypes: float64(1), object(20)\n",
            "memory usage: 155.6+ MB\n"
          ],
          "name": "stdout"
        },
        {
          "output_type": "execute_result",
          "data": {
            "text/html": [
              "<div>\n",
              "<style scoped>\n",
              "    .dataframe tbody tr th:only-of-type {\n",
              "        vertical-align: middle;\n",
              "    }\n",
              "\n",
              "    .dataframe tbody tr th {\n",
              "        vertical-align: top;\n",
              "    }\n",
              "\n",
              "    .dataframe thead th {\n",
              "        text-align: right;\n",
              "    }\n",
              "</style>\n",
              "<table border=\"1\" class=\"dataframe\">\n",
              "  <thead>\n",
              "    <tr style=\"text-align: right;\">\n",
              "      <th></th>\n",
              "      <th>created_at</th>\n",
              "      <th>tweet_id</th>\n",
              "      <th>tweet</th>\n",
              "      <th>likes</th>\n",
              "      <th>retweet_count</th>\n",
              "      <th>source</th>\n",
              "      <th>user_id</th>\n",
              "      <th>user_name</th>\n",
              "      <th>user_screen_name</th>\n",
              "      <th>user_description</th>\n",
              "      <th>...</th>\n",
              "      <th>user_followers_count</th>\n",
              "      <th>user_location</th>\n",
              "      <th>lat</th>\n",
              "      <th>long</th>\n",
              "      <th>city</th>\n",
              "      <th>country</th>\n",
              "      <th>continent</th>\n",
              "      <th>state</th>\n",
              "      <th>state_code</th>\n",
              "      <th>collected_at</th>\n",
              "    </tr>\n",
              "  </thead>\n",
              "  <tbody>\n",
              "    <tr>\n",
              "      <th>0</th>\n",
              "      <td>10/15/2020 0:00</td>\n",
              "      <td>1.32E+18</td>\n",
              "      <td>#Elecciones2020 | En #Florida: #JoeBiden dice ...</td>\n",
              "      <td>0</td>\n",
              "      <td>0.0</td>\n",
              "      <td>TweetDeck</td>\n",
              "      <td>360666534</td>\n",
              "      <td>El Sol Latino News</td>\n",
              "      <td>elsollatinonews</td>\n",
              "      <td>ð Noticias de interÃ©s para latinos de la c...</td>\n",
              "      <td>...</td>\n",
              "      <td>1860</td>\n",
              "      <td>Philadelphia, PA / Miami, FL</td>\n",
              "      <td>25.7743</td>\n",
              "      <td>-80.1937</td>\n",
              "      <td>NaN</td>\n",
              "      <td>United States of America</td>\n",
              "      <td>North America</td>\n",
              "      <td>Florida</td>\n",
              "      <td>FL</td>\n",
              "      <td>10/21/2020 0:00</td>\n",
              "    </tr>\n",
              "    <tr>\n",
              "      <th>1</th>\n",
              "      <td>10/15/2020 0:00</td>\n",
              "      <td>1.32E+18</td>\n",
              "      <td>Usa 2020, Trump contro Facebook e Twitter: cop...</td>\n",
              "      <td>26</td>\n",
              "      <td>9.0</td>\n",
              "      <td>Social Mediaset</td>\n",
              "      <td>331617619</td>\n",
              "      <td>Tgcom24</td>\n",
              "      <td>MediasetTgcom24</td>\n",
              "      <td>Profilo ufficiale di Tgcom24: tutte le notizie...</td>\n",
              "      <td>...</td>\n",
              "      <td>1067661</td>\n",
              "      <td>NaN</td>\n",
              "      <td>NaN</td>\n",
              "      <td>NaN</td>\n",
              "      <td>NaN</td>\n",
              "      <td>NaN</td>\n",
              "      <td>NaN</td>\n",
              "      <td>NaN</td>\n",
              "      <td>NaN</td>\n",
              "      <td>00:00.4</td>\n",
              "    </tr>\n",
              "    <tr>\n",
              "      <th>2</th>\n",
              "      <td>10/15/2020 0:00</td>\n",
              "      <td>1.32E+18</td>\n",
              "      <td>#Trump: As a student I used to hear for years,...</td>\n",
              "      <td>2</td>\n",
              "      <td>1.0</td>\n",
              "      <td>Twitter Web App</td>\n",
              "      <td>8436472</td>\n",
              "      <td>snarke</td>\n",
              "      <td>snarke</td>\n",
              "      <td>Will mock for food! Freelance writer, blogger,...</td>\n",
              "      <td>...</td>\n",
              "      <td>1185</td>\n",
              "      <td>Portland</td>\n",
              "      <td>45.5202</td>\n",
              "      <td>-122.674</td>\n",
              "      <td>Portland</td>\n",
              "      <td>United States of America</td>\n",
              "      <td>North America</td>\n",
              "      <td>Oregon</td>\n",
              "      <td>OR</td>\n",
              "      <td>00:00.7</td>\n",
              "    </tr>\n",
              "    <tr>\n",
              "      <th>3</th>\n",
              "      <td>10/15/2020 0:00</td>\n",
              "      <td>1.32E+18</td>\n",
              "      <td>2 hours since last tweet from #Trump! Maybe he...</td>\n",
              "      <td>0</td>\n",
              "      <td>0.0</td>\n",
              "      <td>Trumpytweeter</td>\n",
              "      <td>8.28E+17</td>\n",
              "      <td>Trumpytweeter</td>\n",
              "      <td>trumpytweeter</td>\n",
              "      <td>If he doesn't tweet for some time, should we b...</td>\n",
              "      <td>...</td>\n",
              "      <td>32</td>\n",
              "      <td>NaN</td>\n",
              "      <td>NaN</td>\n",
              "      <td>NaN</td>\n",
              "      <td>NaN</td>\n",
              "      <td>NaN</td>\n",
              "      <td>NaN</td>\n",
              "      <td>NaN</td>\n",
              "      <td>NaN</td>\n",
              "      <td>00:01.1</td>\n",
              "    </tr>\n",
              "    <tr>\n",
              "      <th>4</th>\n",
              "      <td>10/15/2020 0:00</td>\n",
              "      <td>1.32E+18</td>\n",
              "      <td>You get a tie! And you get a tie! #Trump âs ...</td>\n",
              "      <td>4</td>\n",
              "      <td>3.0</td>\n",
              "      <td>Twitter for iPhone</td>\n",
              "      <td>47413798</td>\n",
              "      <td>Rana Abtar - Ø±ÙØ§ Ø£Ø¨ØªØ±</td>\n",
              "      <td>Ranaabtar</td>\n",
              "      <td>Washington Correspondent, Lebanese-American ,c...</td>\n",
              "      <td>...</td>\n",
              "      <td>5393</td>\n",
              "      <td>Washington DC</td>\n",
              "      <td>38.895</td>\n",
              "      <td>-77.0366</td>\n",
              "      <td>Washington</td>\n",
              "      <td>United States of America</td>\n",
              "      <td>North America</td>\n",
              "      <td>District of Columbia</td>\n",
              "      <td>DC</td>\n",
              "      <td>00:01.5</td>\n",
              "    </tr>\n",
              "  </tbody>\n",
              "</table>\n",
              "<p>5 rows × 21 columns</p>\n",
              "</div>"
            ],
            "text/plain": [
              "        created_at  tweet_id  \\\n",
              "0  10/15/2020 0:00  1.32E+18   \n",
              "1  10/15/2020 0:00  1.32E+18   \n",
              "2  10/15/2020 0:00  1.32E+18   \n",
              "3  10/15/2020 0:00  1.32E+18   \n",
              "4  10/15/2020 0:00  1.32E+18   \n",
              "\n",
              "                                               tweet likes  retweet_count  \\\n",
              "0  #Elecciones2020 | En #Florida: #JoeBiden dice ...     0            0.0   \n",
              "1  Usa 2020, Trump contro Facebook e Twitter: cop...    26            9.0   \n",
              "2  #Trump: As a student I used to hear for years,...     2            1.0   \n",
              "3  2 hours since last tweet from #Trump! Maybe he...     0            0.0   \n",
              "4  You get a tie! And you get a tie! #Trump âs ...     4            3.0   \n",
              "\n",
              "               source    user_id                     user_name  \\\n",
              "0           TweetDeck  360666534            El Sol Latino News   \n",
              "1    Social Mediaset   331617619                       Tgcom24   \n",
              "2     Twitter Web App    8436472                        snarke   \n",
              "3       Trumpytweeter   8.28E+17                 Trumpytweeter   \n",
              "4  Twitter for iPhone   47413798  Rana Abtar - Ø±ÙØ§ Ø£Ø¨ØªØ±   \n",
              "\n",
              "  user_screen_name                                   user_description  ...  \\\n",
              "0  elsollatinonews  ð Noticias de interÃ©s para latinos de la c...  ...   \n",
              "1  MediasetTgcom24  Profilo ufficiale di Tgcom24: tutte le notizie...  ...   \n",
              "2           snarke  Will mock for food! Freelance writer, blogger,...  ...   \n",
              "3    trumpytweeter  If he doesn't tweet for some time, should we b...  ...   \n",
              "4        Ranaabtar  Washington Correspondent, Lebanese-American ,c...  ...   \n",
              "\n",
              "  user_followers_count                 user_location      lat     long  \\\n",
              "0                 1860  Philadelphia, PA / Miami, FL  25.7743 -80.1937   \n",
              "1              1067661                           NaN      NaN      NaN   \n",
              "2                 1185                      Portland  45.5202 -122.674   \n",
              "3                   32                           NaN      NaN      NaN   \n",
              "4                 5393                 Washington DC   38.895 -77.0366   \n",
              "\n",
              "         city                   country      continent                 state  \\\n",
              "0         NaN  United States of America  North America               Florida   \n",
              "1         NaN                       NaN            NaN                   NaN   \n",
              "2    Portland  United States of America  North America                Oregon   \n",
              "3         NaN                       NaN            NaN                   NaN   \n",
              "4  Washington  United States of America  North America  District of Columbia   \n",
              "\n",
              "  state_code     collected_at  \n",
              "0         FL  10/21/2020 0:00  \n",
              "1        NaN          00:00.4  \n",
              "2         OR          00:00.7  \n",
              "3        NaN          00:01.1  \n",
              "4         DC          00:01.5  \n",
              "\n",
              "[5 rows x 21 columns]"
            ]
          },
          "metadata": {
            "tags": []
          },
          "execution_count": 4
        }
      ]
    },
    {
      "cell_type": "code",
      "metadata": {
        "scrolled": true,
        "id": "E8-2851jSUh1",
        "outputId": "6f709d30-e933-44d6-f526-97cd69fa7afc"
      },
      "source": [
        "# Get the data just for tweets from the US\n",
        "US_Trump = df_Trump[df_Trump['country'] == 'United States of America']\n",
        "\n",
        "# Convert 'likes' and 'user_followers_counts' from objects to floats\n",
        "US_Trump['likes'] = US_Trump.likes.astype(float) \n",
        "US_Trump['user_followers_count'] = US_Trump.user_followers_count.astype(float)\n",
        "\n",
        "# Limit the data to tweets from big accounts, or users with more than 20000 followers\n",
        "US_Trump = US_Trump[US_Trump['user_followers_count'] >= 20000]\n",
        "\n",
        "US_Trump.info()"
      ],
      "execution_count": null,
      "outputs": [
        {
          "output_type": "stream",
          "text": [
            "<class 'pandas.core.frame.DataFrame'>\n",
            "Int64Index: 8883 entries, 117 to 970824\n",
            "Data columns (total 21 columns):\n",
            " #   Column                Non-Null Count  Dtype  \n",
            "---  ------                --------------  -----  \n",
            " 0   created_at            8883 non-null   object \n",
            " 1   tweet_id              8883 non-null   object \n",
            " 2   tweet                 8883 non-null   object \n",
            " 3   likes                 8883 non-null   float64\n",
            " 4   retweet_count         8883 non-null   float64\n",
            " 5   source                8883 non-null   object \n",
            " 6   user_id               8883 non-null   object \n",
            " 7   user_name             8883 non-null   object \n",
            " 8   user_screen_name      8883 non-null   object \n",
            " 9   user_description      8854 non-null   object \n",
            " 10  user_join_date        8883 non-null   object \n",
            " 11  user_followers_count  8883 non-null   float64\n",
            " 12  user_location         8883 non-null   object \n",
            " 13  lat                   8883 non-null   object \n",
            " 14  long                  8883 non-null   object \n",
            " 15  city                  5424 non-null   object \n",
            " 16  country               8883 non-null   object \n",
            " 17  continent             8883 non-null   object \n",
            " 18  state                 8883 non-null   object \n",
            " 19  state_code            8883 non-null   object \n",
            " 20  collected_at          8883 non-null   object \n",
            "dtypes: float64(3), object(18)\n",
            "memory usage: 1.5+ MB\n"
          ],
          "name": "stdout"
        },
        {
          "output_type": "stream",
          "text": [
            "<ipython-input-14-40ddd705cc8d>:5: SettingWithCopyWarning: \n",
            "A value is trying to be set on a copy of a slice from a DataFrame.\n",
            "Try using .loc[row_indexer,col_indexer] = value instead\n",
            "\n",
            "See the caveats in the documentation: https://pandas.pydata.org/pandas-docs/stable/user_guide/indexing.html#returning-a-view-versus-a-copy\n",
            "  US_Trump['likes'] = US_Trump.likes.astype(float)\n",
            "<ipython-input-14-40ddd705cc8d>:6: SettingWithCopyWarning: \n",
            "A value is trying to be set on a copy of a slice from a DataFrame.\n",
            "Try using .loc[row_indexer,col_indexer] = value instead\n",
            "\n",
            "See the caveats in the documentation: https://pandas.pydata.org/pandas-docs/stable/user_guide/indexing.html#returning-a-view-versus-a-copy\n",
            "  US_Trump['user_followers_count'] = US_Trump.user_followers_count.astype(float)\n"
          ],
          "name": "stderr"
        }
      ]
    },
    {
      "cell_type": "code",
      "metadata": {
        "id": "mHbZXIR4SUh2"
      },
      "source": [
        "# Create a dataframe for states that Trump won\n",
        "states_Trump_won = US_Trump[US_Trump['state_code'].isin(['ID', 'MT', 'UT', 'WY', 'ND', 'SD', 'NE', 'KS', 'OK', 'TX',\n",
        "                                                    'IA', 'MO', 'AR', 'LA', 'MS', 'AL', 'TN', 'KY', 'IN', 'OH',\n",
        "                                                    'WV', 'NC', 'SC', 'FL', 'AK', 'AL'])]\n",
        "\n",
        "# Create a dataframe for states that Trump lost\n",
        "states_Trump_lost = US_Trump[US_Trump['state_code'].isin(['WA', 'OR', 'CA', 'NV', 'AZ', 'CO', 'NM', 'MN', 'WI', 'IL',\n",
        "                                                    'MI', 'PA', 'ME', 'VT', 'NH', 'MA', 'RI', 'CT', 'NJ', 'DE',\n",
        "                                                    'MD', 'DC', 'VA', 'HI', 'NY' 'GA'])]"
      ],
      "execution_count": null,
      "outputs": []
    },
    {
      "cell_type": "markdown",
      "metadata": {
        "id": "tkxgsRvgSUh2"
      },
      "source": [
        "### 3. On average, do tweets with  #Trump from big accounts receive more likes in states that Trump won compared to states that he lost?"
      ]
    },
    {
      "cell_type": "code",
      "metadata": {
        "id": "H13AFAvhSUh2",
        "outputId": "efcbe91d-43c6-4ad3-9769-a46395e26aa9"
      },
      "source": [
        "# Check whether the data for 'retweet_count' is normally distributed\n",
        "plt.hist(states_Trump_won['likes'], bins=20);"
      ],
      "execution_count": null,
      "outputs": [
        {
          "output_type": "display_data",
          "data": {
            "image/png": "[encoded data removed]",
            "text/plain": [
              "<Figure size 432x288 with 1 Axes>"
            ]
          },
          "metadata": {
            "tags": [],
            "needs_background": "light"
          }
        }
      ]
    },
    {
      "cell_type": "code",
      "metadata": {
        "id": "3IWHSTFjSUh2",
        "outputId": "d3846dab-93d1-4f18-9627-180d044525fb"
      },
      "source": [
        "plt.hist(states_Trump_lost['likes'], bins=20);"
      ],
      "execution_count": null,
      "outputs": [
        {
          "output_type": "display_data",
          "data": {
            "image/png": "[encoded data removed]",
            "text/plain": [
              "<Figure size 432x288 with 1 Axes>"
            ]
          },
          "metadata": {
            "tags": [],
            "needs_background": "light"
          }
        }
      ]
    },
    {
      "cell_type": "code",
      "metadata": {
        "id": "Cb2T04eFSUh2",
        "outputId": "5c366ad4-d9a4-4cbb-a888-d2021e1aeb0d"
      },
      "source": [
        "print(stats.describe(states_Trump_won['likes']))\n",
        "print(stats.describe(states_Trump_lost['likes']))"
      ],
      "execution_count": null,
      "outputs": [
        {
          "output_type": "stream",
          "text": [
            "DescribeResult(nobs=3485, minmax=(0.0, 3880.0), mean=29.428981348637016, variance=15813.886243652063, skewness=13.095557166660063, kurtosis=295.3502546935333)\n",
            "DescribeResult(nobs=3755, minmax=(0.0, 25987.0), mean=126.21411451398136, variance=806931.0202056286, skewness=17.338155835283533, kurtosis=367.12179478322696)\n"
          ],
          "name": "stdout"
        }
      ]
    },
    {
      "cell_type": "code",
      "metadata": {
        "id": "PhingNVZSUh2",
        "outputId": "12471f14-444e-48c2-c752-5be3acf5d6c0"
      },
      "source": [
        "print(stats.shapiro(states_Trump_won['likes']))\n",
        "print(stats.shapiro(states_Trump_lost['likes']))"
      ],
      "execution_count": null,
      "outputs": [
        {
          "output_type": "stream",
          "text": [
            "ShapiroResult(statistic=0.22227519750595093, pvalue=0.0)\n",
            "ShapiroResult(statistic=0.10620242357254028, pvalue=0.0)\n"
          ],
          "name": "stdout"
        }
      ]
    },
    {
      "cell_type": "markdown",
      "metadata": {
        "id": "6Q0dg-S9SUh2"
      },
      "source": [
        "The data was not normally distributed, so their medians will be compared."
      ]
    },
    {
      "cell_type": "code",
      "metadata": {
        "id": "sYm6NjpUSUh2",
        "outputId": "ab8512c0-f596-4e02-8bc0-03ceca7f673e"
      },
      "source": [
        "states_Trump_won['likes'].median() - states_Trump_lost['likes'].median()"
      ],
      "execution_count": null,
      "outputs": [
        {
          "output_type": "execute_result",
          "data": {
            "text/plain": [
              "-3.0"
            ]
          },
          "metadata": {
            "tags": []
          },
          "execution_count": 19
        }
      ]
    },
    {
      "cell_type": "markdown",
      "metadata": {
        "id": "XRUeWZDSSUh2"
      },
      "source": [
        "Becuase the data was not normally distributed, the Kruskal-Wallis test will be used to check the signficance of the difference in medians."
      ]
    },
    {
      "cell_type": "code",
      "metadata": {
        "id": "oUQk92TNSUh2",
        "outputId": "3bb318eb-3474-4a98-ea17-29d8b84cac60"
      },
      "source": [
        "stats.kruskal(states_Trump_won['likes'], states_Trump_lost['likes'])"
      ],
      "execution_count": null,
      "outputs": [
        {
          "output_type": "execute_result",
          "data": {
            "text/plain": [
              "KruskalResult(statistic=271.05116953354565, pvalue=6.695963132187084e-61)"
            ]
          },
          "metadata": {
            "tags": []
          },
          "execution_count": 98
        }
      ]
    },
    {
      "cell_type": "markdown",
      "metadata": {
        "id": "TFz1aBMASUh2"
      },
      "source": [
        "Based on the p-value, there appears to be a significant difference, which means we can reject the null hypothesis."
      ]
    },
    {
      "cell_type": "code",
      "metadata": {
        "id": "2MCrf2TMSUh2",
        "outputId": "349992e6-fe0a-4657-b89e-46c2cb9af289"
      },
      "source": [
        "fig, (ax1, ax2) = plt.subplots(1, 2, sharey=True)\n",
        "fig.suptitle(\"'Likes' in states Trump won and states Trump lost\")\n",
        "ax1.boxplot(states_Trump_won['likes'])\n",
        "ax2.boxplot(states_Trump_lost['likes'])\n",
        "\n",
        "ax1.set_xlabel('States Trump won')\n",
        "ax2.set_xlabel('States Trump lost')\n",
        "ax1.set_ylabel('Number of likes')"
      ],
      "execution_count": null,
      "outputs": [
        {
          "output_type": "execute_result",
          "data": {
            "text/plain": [
              "Text(0, 0.5, 'Number of likes')"
            ]
          },
          "metadata": {
            "tags": []
          },
          "execution_count": 12
        },
        {
          "output_type": "display_data",
          "data": {
            "image/png": "[encoded data removed]",
            "text/plain": [
              "<Figure size 432x288 with 2 Axes>"
            ]
          },
          "metadata": {
            "tags": [],
            "needs_background": "light"
          }
        }
      ]
    },
    {
      "cell_type": "code",
      "metadata": {
        "id": "7qx8m8_ISUh2",
        "outputId": "a5e07231-158d-4261-95ef-aef5200d6e1d"
      },
      "source": [
        "fig, (ax1, ax2) = plt.subplots(1, 2, figsize=(5,8), sharey=True)\n",
        "ax1.boxplot(states_Trump_lost['likes'])\n",
        "ax2.boxplot(states_Trump_won['likes'])\n",
        "\n",
        "ax1.set_xlabel('Blue states')\n",
        "ax2.set_xlabel('Red states')\n",
        "ax1.set_ylabel('Number of likes')\n",
        "\n",
        "plt.show();"
      ],
      "execution_count": null,
      "outputs": [
        {
          "output_type": "display_data",
          "data": {
            "image/png": "[encoded data removed]",
            "text/plain": [
              "<Figure size 360x576 with 2 Axes>"
            ]
          },
          "metadata": {
            "tags": [],
            "needs_background": "light"
          }
        }
      ]
    },
    {
      "cell_type": "markdown",
      "metadata": {
        "id": "-iGBYtd8SUh2"
      },
      "source": [
        "Looking at the two boxplots, it appears that tweets with #Trump received more likes in states that Trump lost."
      ]
    },
    {
      "cell_type": "markdown",
      "metadata": {
        "id": "5LvQnpeMSUh2"
      },
      "source": [
        "### 4. On average, do tweets with #Trump from big accounts receive more retweets in states that Trump won compared to states that he lost?"
      ]
    },
    {
      "cell_type": "code",
      "metadata": {
        "id": "fd-amWm1SUh2",
        "outputId": "a8ea00ea-2f4a-49b1-83fa-376501575b81"
      },
      "source": [
        "# Check whether the data for 'retweet_count' is normally distributed\n",
        "plt.hist(states_Trump_won['retweet_count']);"
      ],
      "execution_count": null,
      "outputs": [
        {
          "output_type": "display_data",
          "data": {
            "image/png": "[encoded data removed]",
            "text/plain": [
              "<Figure size 432x288 with 1 Axes>"
            ]
          },
          "metadata": {
            "tags": [],
            "needs_background": "light"
          }
        }
      ]
    },
    {
      "cell_type": "code",
      "metadata": {
        "id": "p6KJj_mxSUh2",
        "outputId": "1787581d-fe7f-4006-f05f-0f50c63cec66"
      },
      "source": [
        "plt.hist(states_Trump_lost['retweet_count']);"
      ],
      "execution_count": null,
      "outputs": [
        {
          "output_type": "display_data",
          "data": {
            "image/png": "[encoded data removed]",
            "text/plain": [
              "<Figure size 432x288 with 1 Axes>"
            ]
          },
          "metadata": {
            "tags": [],
            "needs_background": "light"
          }
        }
      ]
    },
    {
      "cell_type": "code",
      "metadata": {
        "id": "xuGkLfbbSUh2",
        "outputId": "c5c3304e-19e9-4762-85f3-3652e86cf9c1"
      },
      "source": [
        "print(stats.describe(states_Trump_won['retweet_count']))\n",
        "print(stats.describe(states_Trump_lost['retweet_count']))"
      ],
      "execution_count": null,
      "outputs": [
        {
          "output_type": "stream",
          "text": [
            "DescribeResult(nobs=3485, minmax=(0.0, 946.0), mean=11.381922525107605, variance=2774.1775720778073, skewness=9.015792519566833, kurtosis=104.80972969845403)\n",
            "DescribeResult(nobs=3755, minmax=(0.0, 5986.0), mean=29.50652463382157, variance=44832.15465906939, skewness=18.682448937577256, kurtosis=423.098853396418)\n"
          ],
          "name": "stdout"
        }
      ]
    },
    {
      "cell_type": "code",
      "metadata": {
        "id": "RaDndxXzSUh2",
        "outputId": "81eeaac7-0bb1-4fbd-c6c9-4d0a58c55b0d"
      },
      "source": [
        "print(stats.shapiro(states_Trump_won['retweet_count']))\n",
        "print(stats.shapiro(states_Trump_lost['retweet_count']))"
      ],
      "execution_count": null,
      "outputs": [
        {
          "output_type": "stream",
          "text": [
            "ShapiroResult(statistic=0.21005016565322876, pvalue=0.0)\n",
            "ShapiroResult(statistic=0.10389184951782227, pvalue=0.0)\n"
          ],
          "name": "stdout"
        }
      ]
    },
    {
      "cell_type": "markdown",
      "metadata": {
        "id": "b3XKKA3bSUh2"
      },
      "source": [
        "The data was not normally distributed, so their medians will be compared."
      ]
    },
    {
      "cell_type": "code",
      "metadata": {
        "id": "1uhx3_zOSUh2",
        "outputId": "39fd64ed-a5b6-4b3f-b52f-1fb4fddd2eb2"
      },
      "source": [
        "states_Trump_won['retweet_count'].median() - states_Trump_lost['retweet_count'].median()"
      ],
      "execution_count": null,
      "outputs": [
        {
          "output_type": "execute_result",
          "data": {
            "text/plain": [
              "-1.0"
            ]
          },
          "metadata": {
            "tags": []
          },
          "execution_count": 22
        }
      ]
    },
    {
      "cell_type": "markdown",
      "metadata": {
        "id": "5Ys1zdNiSUh2"
      },
      "source": [
        "Becuase the data was not normally distributed, the Kruskal-Wallis test will be used to check the signficance of the difference in medians."
      ]
    },
    {
      "cell_type": "code",
      "metadata": {
        "id": "R3VJ6Au6SUh2",
        "outputId": "66a27200-998a-493a-994c-3fc346fc6a53"
      },
      "source": [
        "stats.kruskal(states_Trump_won['retweet_count'], states_Trump_lost['retweet_count'])"
      ],
      "execution_count": null,
      "outputs": [
        {
          "output_type": "execute_result",
          "data": {
            "text/plain": [
              "KruskalResult(statistic=185.45579392945845, pvalue=3.1210079787399454e-42)"
            ]
          },
          "metadata": {
            "tags": []
          },
          "execution_count": 102
        }
      ]
    },
    {
      "cell_type": "markdown",
      "metadata": {
        "id": "ajgZJ397SUh2"
      },
      "source": [
        "Based on the p-value, there appears to be a significant difference, which means we can reject the null hypothesis."
      ]
    },
    {
      "cell_type": "code",
      "metadata": {
        "scrolled": true,
        "id": "kON0h1pNSUh2",
        "outputId": "ed106e4f-3e69-482f-f2e3-57d2888977e2"
      },
      "source": [
        "fig, (ax1, ax2) = plt.subplots(1, 2, sharey=True)\n",
        "fig.suptitle(\"'Retweets' in states Trump won and states Trump lost\")\n",
        "ax1.boxplot(states_Trump_won['retweet_count'])\n",
        "ax2.boxplot(states_Trump_lost['retweet_count'])\n",
        "\n",
        "ax1.set_xlabel('States Trump won')\n",
        "ax2.set_xlabel('States Trump lost')\n",
        "ax1.set_ylabel('Number of retweets');"
      ],
      "execution_count": null,
      "outputs": [
        {
          "output_type": "display_data",
          "data": {
            "image/png": "[encoded data removed]",
            "text/plain": [
              "<Figure size 432x288 with 2 Axes>"
            ]
          },
          "metadata": {
            "tags": [],
            "needs_background": "light"
          }
        }
      ]
    },
    {
      "cell_type": "code",
      "metadata": {
        "id": "bqci5u2NSUh2",
        "outputId": "263e5168-c608-486a-db78-22a5fe0860a0"
      },
      "source": [
        "fig, (ax1, ax2) = plt.subplots(1, 2, figsize=(5,8), sharey=True)\n",
        "ax1.boxplot(states_Trump_lost['retweet_count'])\n",
        "ax2.boxplot(states_Trump_won['retweet_count'])\n",
        "\n",
        "ax1.set_xlabel('Blue states')\n",
        "ax2.set_xlabel('Red states')\n",
        "ax1.set_ylabel('Number of retweets')\n",
        "\n",
        "plt.show();"
      ],
      "execution_count": null,
      "outputs": [
        {
          "output_type": "display_data",
          "data": {
            "image/png": "[encoded data removed]",
            "text/plain": [
              "<Figure size 360x576 with 2 Axes>"
            ]
          },
          "metadata": {
            "tags": [],
            "needs_background": "light"
          }
        }
      ]
    },
    {
      "cell_type": "markdown",
      "metadata": {
        "id": "nrEHeVGtSUh2"
      },
      "source": [
        "Looking at the two boxpots, it appears that tweets with #Trump received more retweets in states that Trump lost."
      ]
    }
  ]
}